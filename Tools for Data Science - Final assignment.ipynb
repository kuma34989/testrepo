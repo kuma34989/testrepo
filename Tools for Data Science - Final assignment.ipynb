{
    "cells": [
        {
            "cell_type": "markdown",
            "metadata": {
                "collapsed": true
            },
            "source": "# My Jupiter Notebook on IBM Watson"
        },
        {
            "cell_type": "markdown",
            "metadata": {},
            "source": "**Tadashi Ishikawa**  \ncurrently I'm in break prior to the next venture ;)"
        },
        {
            "cell_type": "markdown",
            "metadata": {},
            "source": "*I've been working in IT industory for longer than 30 years. In recent years, I've involved Data Analytics and AI related projects as Project owner.  \non the days, I learned Analytics and Machine Learning only concerning some specific topics which required for the projects but not entier coverage.  \nI got qurioisty what's Data Scienece all about .. now I could have a time to review it from scratch in a structred manner.*"
        },
        {
            "cell_type": "markdown",
            "metadata": {},
            "source": "### Use Operator to compute"
        },
        {
            "cell_type": "code",
            "execution_count": 10,
            "metadata": {},
            "outputs": [
                {
                    "name": "stdout",
                    "output_type": "stream",
                    "text": "5\n5\n"
                }
            ],
            "source": "import operator\n\nprint(2 + 3)\n# 5\n\nprint(operator.add(2, 3))\n# 5"
        },
        {
            "cell_type": "markdown",
            "metadata": {},
            "source": "---\n**Bullet list**\n- one\n- two\n- three\n\n**Numeric list**\n1. one\n2. two\n3. three\n\n**Table**\n\n|column a|column b|\n|---|---|\n|a1|b1|  \n|a2|b2|  \n"
        },
        {
            "cell_type": "code",
            "execution_count": 9,
            "metadata": {},
            "outputs": [
                {
                    "data": {
                        "text/html": "<style>\ntable {float:left}\n</style>\n",
                        "text/plain": "<IPython.core.display.HTML object>"
                    },
                    "metadata": {},
                    "output_type": "display_data"
                }
            ],
            "source": "%%html\n<style>\ntable {float:left}\n</style>"
        }
    ],
    "metadata": {
        "kernelspec": {
            "display_name": "Python 3.7",
            "language": "python",
            "name": "python3"
        },
        "language_info": {
            "codemirror_mode": {
                "name": "ipython",
                "version": 3
            },
            "file_extension": ".py",
            "mimetype": "text/x-python",
            "name": "python",
            "nbconvert_exporter": "python",
            "pygments_lexer": "ipython3",
            "version": "3.7.11"
        }
    },
    "nbformat": 4,
    "nbformat_minor": 1
}